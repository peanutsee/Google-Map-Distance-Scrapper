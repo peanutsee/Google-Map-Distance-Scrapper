{
 "cells": [
  {
   "cell_type": "code",
   "execution_count": 46,
   "metadata": {},
   "outputs": [],
   "source": [
    "# Import libaries\n",
    "import pandas as pd\n",
    "from selenium import webdriver  # WebDriver\n",
    "from selenium.webdriver.support.ui import WebDriverWait\n",
    "from selenium.webdriver.support import expected_conditions as ec\n",
    "from selenium.webdriver.common.by import By\n",
    "from time import sleep"
   ]
  },
  {
   "cell_type": "code",
   "execution_count": 47,
   "metadata": {},
   "outputs": [],
   "source": [
    "# Read in excel file\n",
    "df = pd.read_excel('Rachel.xlsx')"
   ]
  },
  {
   "cell_type": "code",
   "execution_count": 48,
   "metadata": {
    "scrolled": true
   },
   "outputs": [
    {
     "data": {
      "text/html": [
       "<div>\n",
       "<style scoped>\n",
       "    .dataframe tbody tr th:only-of-type {\n",
       "        vertical-align: middle;\n",
       "    }\n",
       "\n",
       "    .dataframe tbody tr th {\n",
       "        vertical-align: top;\n",
       "    }\n",
       "\n",
       "    .dataframe thead th {\n",
       "        text-align: right;\n",
       "    }\n",
       "</style>\n",
       "<table border=\"1\" class=\"dataframe\">\n",
       "  <thead>\n",
       "    <tr style=\"text-align: right;\">\n",
       "      <th></th>\n",
       "      <th>start</th>\n",
       "      <th>end</th>\n",
       "    </tr>\n",
       "  </thead>\n",
       "  <tbody>\n",
       "    <tr>\n",
       "      <th>0</th>\n",
       "      <td>120106</td>\n",
       "      <td>118259</td>\n",
       "    </tr>\n",
       "    <tr>\n",
       "      <th>1</th>\n",
       "      <td>560578</td>\n",
       "      <td>419796</td>\n",
       "    </tr>\n",
       "    <tr>\n",
       "      <th>2</th>\n",
       "      <td>209390</td>\n",
       "      <td>123456</td>\n",
       "    </tr>\n",
       "  </tbody>\n",
       "</table>\n",
       "</div>"
      ],
      "text/plain": [
       "    start     end\n",
       "0  120106  118259\n",
       "1  560578  419796\n",
       "2  209390  123456"
      ]
     },
     "execution_count": 48,
     "metadata": {},
     "output_type": "execute_result"
    }
   ],
   "source": [
    "# View excel file\n",
    "df"
   ]
  },
  {
   "cell_type": "code",
   "execution_count": 49,
   "metadata": {},
   "outputs": [
    {
     "data": {
      "text/plain": [
       "Index(['start', 'end'], dtype='object')"
      ]
     },
     "execution_count": 49,
     "metadata": {},
     "output_type": "execute_result"
    }
   ],
   "source": [
    "# View columns\n",
    "df.columns"
   ]
  },
  {
   "cell_type": "code",
   "execution_count": 50,
   "metadata": {},
   "outputs": [
    {
     "name": "stdout",
     "output_type": "stream",
     "text": [
      "Start list: [120106, 560578, 209390]\n",
      "End list: [118259, 419796, 123456]\n",
      "Zipped list: [(120106, 118259), (560578, 419796), (209390, 123456)]\n"
     ]
    }
   ],
   "source": [
    "# Casting start column to list\n",
    "start = df['start'].to_list()\n",
    "print(\"Start list:\", start)\n",
    "\n",
    "# Casting end column to list\n",
    "end = df['end'].to_list()\n",
    "print(\"End list:\", end)\n",
    "\n",
    "# Creating zipped list  | format: (start_postal, end_postal)\n",
    "zipped_dest = list(zip(start, end))\n",
    "print(\"Zipped list:\", zipped_dest)"
   ]
  },
  {
   "cell_type": "markdown",
   "metadata": {},
   "source": [
    "### Distancy"
   ]
  },
  {
   "cell_type": "code",
   "execution_count": 51,
   "metadata": {},
   "outputs": [],
   "source": [
    "class Distancy:\n",
    "    def __init__(self):\n",
    "        # Chrome Settings\n",
    "        chrome_options = webdriver.ChromeOptions()\n",
    "        chrome_options.add_experimental_option(\"excludeSwitches\", [\"enable-automation\"])\n",
    "        self.driver = webdriver.Chrome(options=chrome_options)\n",
    "\n",
    "    def open(self):\n",
    "        \"\"\"\n",
    "        This functions opens up google search\n",
    "        \"\"\"\n",
    "        self.driver.get(\n",
    "            'https://www.google.com/search?source=hp&ei=N-_EX7qiFo'\n",
    "            'vB3LUPoMSZ6Ag&q=Singapore+560578+to+Singapore+'\n",
    "            '319773&oq=Singapore+560578+to+Singapore+319773&gs_lcp='\n",
    "            'CgZwc3ktYWIQAzoLCAAQsQMQgwEQyQM6BQgAELEDOgIIADoLCC4QsQMQxwE'\n",
    "            'QrwE6BQguELEDOggILhDHARCvAToICAAQsQMQgwE6BQgAEMkDOgIIJj'\n",
    "            'oLCC4QsQMQxwEQowI6DgguELEDEIMBEMcBEKMCOgIILjoRCC4QsQMQxwEQrwEQyQMQkw'\n",
    "            'I6CAguELEDEIMBOg4ILhCxAxCDARDHARCvAToRCC4QsQMQxwEQowIQy'\n",
    "            'QMQkwI6BggAEBYQHjoICAAQFhAKEB46BAghEBVQ-g9YyJIBYKyTAWgOcAB4AIABdIgBxBmSAQQ0N'\n",
    "            'i40mAEAoAEBqgEHZ3dzLXdperABAA&sclient=psy'\n",
    "            '-ab&ved=0ahUKEwj6mZrZq6rtAhWLILcAHSBiBo0Q4dUDCAc&uact=5')\n",
    "\n",
    "    def inputs(self, start, end):\n",
    "        \"\"\"\n",
    "        This function searches from start to end.\n",
    "        :param start: Postal Code of Starting Destination\n",
    "        :param end: Postal Code of Ending Destination\n",
    "        :return: Distance (str)\n",
    "        \"\"\"\n",
    "        # Predefined Variables\n",
    "        delay = 10\n",
    "        wait = WebDriverWait(self.driver, delay)\n",
    "\n",
    "        sleep(1)  # Waits for HTML page to render\n",
    "\n",
    "        # Clears existing texts in the Google Search bar\n",
    "        wait.until(\n",
    "            ec.element_to_be_clickable((By.XPATH, '//*[@id=\"tsf\"]/div[2]/div[1]/div[2]/div/div[2]/input'))).clear()\n",
    "\n",
    "        # Inputs the start and end destination into the Google Search bar\n",
    "        wait.until(\n",
    "            ec.element_to_be_clickable((By.XPATH, '//*[@id=\"tsf\"]/div[2]/div[1]/div[2]/div/div[2]/input'))).send_keys(\n",
    "            \"Singapore \" + str(start) + \" to Singapore \" + str(end))\n",
    "\n",
    "        # Initiate search\n",
    "        wait.until(ec.element_to_be_clickable((By.XPATH, '//*[@id=\"tsf\"]/div[2]/div[1]/div[2]/button'))).click()\n",
    "\n",
    "        # Retrieve distance from HTML source\n",
    "        sleep(1)\n",
    "        distance = self.driver.find_element_by_xpath('//*[@id=\"exp0\"]/div[1]/div/div/span[1]/span[2]').text[:-2]\n",
    "\n",
    "        return distance"
   ]
  },
  {
   "cell_type": "markdown",
   "metadata": {},
   "source": [
    "### Get Distance"
   ]
  },
  {
   "cell_type": "code",
   "execution_count": 52,
   "metadata": {},
   "outputs": [
    {
     "name": "stdout",
     "output_type": "stream",
     "text": [
      "Starting Postal Code: 120106\n",
      "Ending Postal Code: 118259\n",
      "Distance: 5.9  KM\n",
      "\n",
      "Starting Postal Code: 560578\n",
      "Ending Postal Code: 419796\n",
      "Distance: 12.4  KM\n",
      "\n",
      "Starting Postal Code: 209390\n",
      "Ending Postal Code: 123456\n",
      "Distance: 7.2  KM\n",
      "\n"
     ]
    }
   ],
   "source": [
    "# Instantiate Distancy\n",
    "dist = Distancy()\n",
    "\n",
    "dist.open()\n",
    "\n",
    "\n",
    "for start, end in zipped_dest:\n",
    "    print(\"Starting Postal Code:\", start)\n",
    "    print(\"Ending Postal Code:\", end)\n",
    "    d = dist.inputs(start, end)\n",
    "    print(\"Distance:\", d, \"KM\\n\")"
   ]
  }
 ],
 "metadata": {
  "kernelspec": {
   "display_name": "Python 3",
   "language": "python",
   "name": "python3"
  },
  "language_info": {
   "codemirror_mode": {
    "name": "ipython",
    "version": 3
   },
   "file_extension": ".py",
   "mimetype": "text/x-python",
   "name": "python",
   "nbconvert_exporter": "python",
   "pygments_lexer": "ipython3",
   "version": "3.8.3"
  }
 },
 "nbformat": 4,
 "nbformat_minor": 4
}
